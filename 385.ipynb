{
 "cells": [
  {
   "cell_type": "code",
   "execution_count": 1,
   "id": "487188eb",
   "metadata": {},
   "outputs": [],
   "source": [
    "import pandas as pd\n",
    "import numpy as np\n",
    "import matplotlib.pyplot as plt\n",
    "import matplotlib\n",
    "%matplotlib inline\n",
    "import statsmodels.api as sm\n",
    "import os\n",
    "plt.style.use('ggplot')"
   ]
  },
  {
   "cell_type": "code",
   "execution_count": 2,
   "id": "a7431910",
   "metadata": {},
   "outputs": [],
   "source": [
    "import statsmodels.api as sm\n",
    "from statsmodels.iolib.table import SimpleTable\n",
    "from sklearn.metrics import r2_score\n",
    "from sklearn.metrics import mean_squared_error\n",
    "from sklearn.metrics import mean_absolute_error"
   ]
  },
  {
   "cell_type": "code",
   "execution_count": 3,
   "id": "cfcae8a5",
   "metadata": {},
   "outputs": [
    {
     "data": {
      "text/html": [
       "<div>\n",
       "<style scoped>\n",
       "    .dataframe tbody tr th:only-of-type {\n",
       "        vertical-align: middle;\n",
       "    }\n",
       "\n",
       "    .dataframe tbody tr th {\n",
       "        vertical-align: top;\n",
       "    }\n",
       "\n",
       "    .dataframe thead th {\n",
       "        text-align: right;\n",
       "    }\n",
       "</style>\n",
       "<table border=\"1\" class=\"dataframe\">\n",
       "  <thead>\n",
       "    <tr style=\"text-align: right;\">\n",
       "      <th></th>\n",
       "      <th>газ</th>\n",
       "      <th>масла</th>\n",
       "      <th>смолы</th>\n",
       "      <th>асфальтены</th>\n",
       "      <th>кокс</th>\n",
       "    </tr>\n",
       "    <tr>\n",
       "      <th>время</th>\n",
       "      <th></th>\n",
       "      <th></th>\n",
       "      <th></th>\n",
       "      <th></th>\n",
       "      <th></th>\n",
       "    </tr>\n",
       "  </thead>\n",
       "  <tbody>\n",
       "    <tr>\n",
       "      <th>0</th>\n",
       "      <td>0.00</td>\n",
       "      <td>0.55</td>\n",
       "      <td>0.37</td>\n",
       "      <td>0.09</td>\n",
       "      <td>0.00</td>\n",
       "    </tr>\n",
       "    <tr>\n",
       "      <th>30</th>\n",
       "      <td>0.03</td>\n",
       "      <td>0.53</td>\n",
       "      <td>0.32</td>\n",
       "      <td>0.11</td>\n",
       "      <td>0.01</td>\n",
       "    </tr>\n",
       "    <tr>\n",
       "      <th>60</th>\n",
       "      <td>0.05</td>\n",
       "      <td>0.54</td>\n",
       "      <td>0.27</td>\n",
       "      <td>0.12</td>\n",
       "      <td>0.01</td>\n",
       "    </tr>\n",
       "    <tr>\n",
       "      <th>90</th>\n",
       "      <td>0.05</td>\n",
       "      <td>0.59</td>\n",
       "      <td>0.23</td>\n",
       "      <td>0.12</td>\n",
       "      <td>0.01</td>\n",
       "    </tr>\n",
       "    <tr>\n",
       "      <th>120</th>\n",
       "      <td>0.04</td>\n",
       "      <td>0.59</td>\n",
       "      <td>0.23</td>\n",
       "      <td>0.13</td>\n",
       "      <td>0.01</td>\n",
       "    </tr>\n",
       "  </tbody>\n",
       "</table>\n",
       "</div>"
      ],
      "text/plain": [
       "        газ  масла  смолы  асфальтены  кокс\n",
       "время                                      \n",
       "0      0.00   0.55   0.37        0.09  0.00\n",
       "30     0.03   0.53   0.32        0.11  0.01\n",
       "60     0.05   0.54   0.27        0.12  0.01\n",
       "90     0.05   0.59   0.23        0.12  0.01\n",
       "120    0.04   0.59   0.23        0.13  0.01"
      ]
     },
     "execution_count": 3,
     "metadata": {},
     "output_type": "execute_result"
    }
   ],
   "source": [
    "#import data\n",
    "df_435 = pd.read_csv('385.csv', sep = ',')\n",
    "df_435 = df_435.set_index('время')\n",
    "df_435 = df_435\n",
    "df_435"
   ]
  },
  {
   "cell_type": "code",
   "execution_count": 4,
   "id": "bd7c0455",
   "metadata": {},
   "outputs": [
    {
     "data": {
      "text/plain": [
       "<AxesSubplot:xlabel='время'>"
      ]
     },
     "execution_count": 4,
     "metadata": {},
     "output_type": "execute_result"
    },
    {
     "data": {
      "image/png": "[encoded data removed]",
      "text/plain": [
       "<Figure size 864x432 with 1 Axes>"
      ]
     },
     "metadata": {},
     "output_type": "display_data"
    }
   ],
   "source": [
    "df_435.plot(figsize=(12,6))"
   ]
  },
  {
   "cell_type": "code",
   "execution_count": 5,
   "id": "420e10c7",
   "metadata": {},
   "outputs": [
    {
     "data": {
      "text/html": [
       "<div>\n",
       "<style scoped>\n",
       "    .dataframe tbody tr th:only-of-type {\n",
       "        vertical-align: middle;\n",
       "    }\n",
       "\n",
       "    .dataframe tbody tr th {\n",
       "        vertical-align: top;\n",
       "    }\n",
       "\n",
       "    .dataframe thead th {\n",
       "        text-align: right;\n",
       "    }\n",
       "</style>\n",
       "<table border=\"1\" class=\"dataframe\">\n",
       "  <thead>\n",
       "    <tr style=\"text-align: right;\">\n",
       "      <th></th>\n",
       "      <th>Masla_Yt</th>\n",
       "      <th>Smol_Yt</th>\n",
       "      <th>Asvalten_Yt</th>\n",
       "      <th>Gaz_Yt</th>\n",
       "      <th>Koks_Yt</th>\n",
       "    </tr>\n",
       "    <tr>\n",
       "      <th>время</th>\n",
       "      <th></th>\n",
       "      <th></th>\n",
       "      <th></th>\n",
       "      <th></th>\n",
       "      <th></th>\n",
       "    </tr>\n",
       "  </thead>\n",
       "  <tbody>\n",
       "    <tr>\n",
       "      <th>0</th>\n",
       "      <td>0.55</td>\n",
       "      <td>0.37</td>\n",
       "      <td>0.09</td>\n",
       "      <td>0.00</td>\n",
       "      <td>0.00</td>\n",
       "    </tr>\n",
       "    <tr>\n",
       "      <th>30</th>\n",
       "      <td>0.53</td>\n",
       "      <td>0.32</td>\n",
       "      <td>0.11</td>\n",
       "      <td>0.03</td>\n",
       "      <td>0.01</td>\n",
       "    </tr>\n",
       "    <tr>\n",
       "      <th>60</th>\n",
       "      <td>0.54</td>\n",
       "      <td>0.27</td>\n",
       "      <td>0.12</td>\n",
       "      <td>0.05</td>\n",
       "      <td>0.01</td>\n",
       "    </tr>\n",
       "    <tr>\n",
       "      <th>90</th>\n",
       "      <td>0.59</td>\n",
       "      <td>0.23</td>\n",
       "      <td>0.12</td>\n",
       "      <td>0.05</td>\n",
       "      <td>0.01</td>\n",
       "    </tr>\n",
       "    <tr>\n",
       "      <th>120</th>\n",
       "      <td>0.59</td>\n",
       "      <td>0.23</td>\n",
       "      <td>0.13</td>\n",
       "      <td>0.04</td>\n",
       "      <td>0.01</td>\n",
       "    </tr>\n",
       "  </tbody>\n",
       "</table>\n",
       "</div>"
      ],
      "text/plain": [
       "       Masla_Yt  Smol_Yt  Asvalten_Yt  Gaz_Yt  Koks_Yt\n",
       "время                                                 \n",
       "0          0.55     0.37         0.09    0.00     0.00\n",
       "30         0.53     0.32         0.11    0.03     0.01\n",
       "60         0.54     0.27         0.12    0.05     0.01\n",
       "90         0.59     0.23         0.12    0.05     0.01\n",
       "120        0.59     0.23         0.13    0.04     0.01"
      ]
     },
     "execution_count": 5,
     "metadata": {},
     "output_type": "execute_result"
    }
   ],
   "source": [
    "ar1 = pd.DataFrame({'Masla_Yt': df_435['масла'], 'Smol_Yt':df_435['смолы'], 'Asvalten_Yt': df_435['асфальтены'], 'Gaz_Yt':df_435['газ'], 'Koks_Yt': df_435['кокс']})\n",
    "ar1= ar1\n",
    "ar1"
   ]
  },
  {
   "cell_type": "markdown",
   "id": "62973691",
   "metadata": {},
   "source": [
    "### 1) ARIMA для масла"
   ]
  },
  {
   "cell_type": "code",
   "execution_count": 6,
   "id": "bd6351dd",
   "metadata": {
    "scrolled": true
   },
   "outputs": [
    {
     "name": "stderr",
     "output_type": "stream",
     "text": [
      "C:\\Users\\roman\\Anaconda3\\lib\\site-packages\\statsmodels\\tsa\\base\\tsa_model.py:471: ValueWarning: An unsupported index was provided and will be ignored when e.g. forecasting.\n",
      "  self._init_dates(dates, freq)\n",
      "C:\\Users\\roman\\Anaconda3\\lib\\site-packages\\statsmodels\\tsa\\base\\tsa_model.py:471: ValueWarning: An unsupported index was provided and will be ignored when e.g. forecasting.\n",
      "  self._init_dates(dates, freq)\n",
      "C:\\Users\\roman\\Anaconda3\\lib\\site-packages\\statsmodels\\tsa\\base\\tsa_model.py:471: ValueWarning: An unsupported index was provided and will be ignored when e.g. forecasting.\n",
      "  self._init_dates(dates, freq)\n"
     ]
    },
    {
     "name": "stdout",
     "output_type": "stream",
     "text": [
      "                               SARIMAX Results                                \n",
      "==============================================================================\n",
      "Dep. Variable:               Masla_Yt   No. Observations:                    5\n",
      "Model:                 ARIMA(1, 0, 0)   Log Likelihood                  11.743\n",
      "Date:                Thu, 26 Jan 2023   AIC                            -17.485\n",
      "Time:                        15:38:41   BIC                            -18.657\n",
      "Sample:                             0   HQIC                           -20.630\n",
      "                                  - 5                                         \n",
      "Covariance Type:                  opg                                         \n",
      "==============================================================================\n",
      "                 coef    std err          z      P>|z|      [0.025      0.975]\n",
      "------------------------------------------------------------------------------\n",
      "const          0.5623      0.022     25.590      0.000       0.519       0.605\n",
      "ar.L1          0.4314      0.710      0.607      0.544      -0.961       1.824\n",
      "sigma2         0.0005      0.001      0.746      0.456      -0.001       0.002\n",
      "===================================================================================\n",
      "Ljung-Box (L1) (Q):                   0.85   Jarque-Bera (JB):                 0.43\n",
      "Prob(Q):                              0.36   Prob(JB):                         0.81\n",
      "Heteroskedasticity (H):               1.92   Skew:                             0.42\n",
      "Prob(H) (two-sided):                  0.68   Kurtosis:                         1.84\n",
      "===================================================================================\n",
      "\n",
      "Warnings:\n",
      "[1] Covariance matrix calculated using the outer product of gradients (complex-step).\n"
     ]
    }
   ],
   "source": [
    "src_data_model =ar1['Masla_Yt']\n",
    "model1 = sm.tsa.ARIMA(src_data_model, order=(1,0,0)).fit()\n",
    "#, freq='W # full_output=False, disp=0\n",
    "print (model1.summary())"
   ]
  },
  {
   "cell_type": "markdown",
   "id": "2cbf24d8",
   "metadata": {},
   "source": [
    "### 2) ARIMA для смолы"
   ]
  },
  {
   "cell_type": "code",
   "execution_count": 7,
   "id": "77565137",
   "metadata": {
    "scrolled": true
   },
   "outputs": [
    {
     "name": "stdout",
     "output_type": "stream",
     "text": [
      "                               SARIMAX Results                                \n",
      "==============================================================================\n",
      "Dep. Variable:                Smol_Yt   No. Observations:                    5\n",
      "Model:                 ARIMA(1, 0, 0)   Log Likelihood                   8.667\n",
      "Date:                Thu, 26 Jan 2023   AIC                            -11.334\n",
      "Time:                        15:38:44   BIC                            -12.506\n",
      "Sample:                             0   HQIC                           -14.479\n",
      "                                  - 5                                         \n",
      "Covariance Type:                  opg                                         \n",
      "==============================================================================\n",
      "                 coef    std err          z      P>|z|      [0.025      0.975]\n",
      "------------------------------------------------------------------------------\n",
      "const          0.2931      0.055      5.353      0.000       0.186       0.400\n",
      "ar.L1          0.7680      0.524      1.466      0.143      -0.259       1.795\n",
      "sigma2         0.0015      0.003      0.531      0.596      -0.004       0.007\n",
      "===================================================================================\n",
      "Ljung-Box (L1) (Q):                   0.00   Jarque-Bera (JB):                 1.15\n",
      "Prob(Q):                              0.97   Prob(JB):                         0.56\n",
      "Heteroskedasticity (H):               0.66   Skew:                             1.17\n",
      "Prob(H) (two-sided):                  0.79   Kurtosis:                         2.76\n",
      "===================================================================================\n",
      "\n",
      "Warnings:\n",
      "[1] Covariance matrix calculated using the outer product of gradients (complex-step).\n"
     ]
    },
    {
     "name": "stderr",
     "output_type": "stream",
     "text": [
      "C:\\Users\\roman\\Anaconda3\\lib\\site-packages\\statsmodels\\tsa\\base\\tsa_model.py:471: ValueWarning: An unsupported index was provided and will be ignored when e.g. forecasting.\n",
      "  self._init_dates(dates, freq)\n",
      "C:\\Users\\roman\\Anaconda3\\lib\\site-packages\\statsmodels\\tsa\\base\\tsa_model.py:471: ValueWarning: An unsupported index was provided and will be ignored when e.g. forecasting.\n",
      "  self._init_dates(dates, freq)\n",
      "C:\\Users\\roman\\Anaconda3\\lib\\site-packages\\statsmodels\\tsa\\base\\tsa_model.py:471: ValueWarning: An unsupported index was provided and will be ignored when e.g. forecasting.\n",
      "  self._init_dates(dates, freq)\n"
     ]
    }
   ],
   "source": [
    "src_data_model = ar1['Smol_Yt']\n",
    "model2 = sm.tsa.ARIMA(src_data_model, order=(1,0,0)).fit()\n",
    "#, freq='W # full_output=False, disp=0\n",
    "print (model2.summary())"
   ]
  },
  {
   "cell_type": "markdown",
   "id": "62dfc404",
   "metadata": {},
   "source": [
    "### 3) ARIMA для асфальтены"
   ]
  },
  {
   "cell_type": "code",
   "execution_count": 8,
   "id": "7ade8f55",
   "metadata": {
    "scrolled": true
   },
   "outputs": [
    {
     "name": "stdout",
     "output_type": "stream",
     "text": [
      "                               SARIMAX Results                                \n",
      "==============================================================================\n",
      "Dep. Variable:            Asvalten_Yt   No. Observations:                    5\n",
      "Model:                 ARIMA(1, 0, 0)   Log Likelihood                  14.856\n",
      "Date:                Thu, 26 Jan 2023   AIC                            -23.711\n",
      "Time:                        15:38:47   BIC                            -24.883\n",
      "Sample:                             0   HQIC                           -26.856\n",
      "                                  - 5                                         \n",
      "Covariance Type:                  opg                                         \n",
      "==============================================================================\n",
      "                 coef    std err          z      P>|z|      [0.025      0.975]\n",
      "------------------------------------------------------------------------------\n",
      "const          0.1123      0.015      7.467      0.000       0.083       0.142\n",
      "ar.L1          0.6398      0.521      1.228      0.219      -0.381       1.661\n",
      "sigma2         0.0001      0.000      0.545      0.586      -0.000       0.001\n",
      "===================================================================================\n",
      "Ljung-Box (L1) (Q):                   0.47   Jarque-Bera (JB):                 1.15\n",
      "Prob(Q):                              0.49   Prob(JB):                         0.56\n",
      "Heteroskedasticity (H):               0.39   Skew:                            -1.17\n",
      "Prob(H) (two-sided):                  0.56   Kurtosis:                         2.74\n",
      "===================================================================================\n",
      "\n",
      "Warnings:\n",
      "[1] Covariance matrix calculated using the outer product of gradients (complex-step).\n"
     ]
    },
    {
     "name": "stderr",
     "output_type": "stream",
     "text": [
      "C:\\Users\\roman\\Anaconda3\\lib\\site-packages\\statsmodels\\tsa\\base\\tsa_model.py:471: ValueWarning: An unsupported index was provided and will be ignored when e.g. forecasting.\n",
      "  self._init_dates(dates, freq)\n",
      "C:\\Users\\roman\\Anaconda3\\lib\\site-packages\\statsmodels\\tsa\\base\\tsa_model.py:471: ValueWarning: An unsupported index was provided and will be ignored when e.g. forecasting.\n",
      "  self._init_dates(dates, freq)\n",
      "C:\\Users\\roman\\Anaconda3\\lib\\site-packages\\statsmodels\\tsa\\base\\tsa_model.py:471: ValueWarning: An unsupported index was provided and will be ignored when e.g. forecasting.\n",
      "  self._init_dates(dates, freq)\n"
     ]
    }
   ],
   "source": [
    "src_data_model = ar1['Asvalten_Yt']\n",
    "model3 = sm.tsa.ARIMA(src_data_model, order=(1,0,0)).fit()\n",
    "#, freq='W # full_output=False, disp=0\n",
    "print (model3.summary())"
   ]
  },
  {
   "cell_type": "markdown",
   "id": "02103e65",
   "metadata": {},
   "source": [
    "### 4) ARIMA для кокса"
   ]
  },
  {
   "cell_type": "code",
   "execution_count": 9,
   "id": "09a94e66",
   "metadata": {
    "scrolled": true
   },
   "outputs": [
    {
     "name": "stdout",
     "output_type": "stream",
     "text": [
      "                               SARIMAX Results                                \n",
      "==============================================================================\n",
      "Dep. Variable:                Koks_Yt   No. Observations:                    5\n",
      "Model:                 ARIMA(1, 0, 0)   Log Likelihood                  20.524\n",
      "Date:                Thu, 26 Jan 2023   AIC                            -35.048\n",
      "Time:                        15:38:54   BIC                            -36.220\n",
      "Sample:                             0   HQIC                           -38.193\n",
      "                                  - 5                                         \n",
      "Covariance Type:                  opg                                         \n",
      "==============================================================================\n",
      "                 coef    std err          z      P>|z|      [0.025      0.975]\n",
      "------------------------------------------------------------------------------\n",
      "const          0.0081      0.184      0.044      0.965      -0.352       0.368\n",
      "ar.L1         -0.0526      9.682     -0.005      0.996     -19.030      18.924\n",
      "sigma2       1.59e-05      0.001      0.017      0.987      -0.002       0.002\n",
      "===================================================================================\n",
      "Ljung-Box (L1) (Q):                   0.00   Jarque-Bera (JB):                 1.86\n",
      "Prob(Q):                              0.99   Prob(JB):                         0.39\n",
      "Heteroskedasticity (H):               0.12   Skew:                            -1.49\n",
      "Prob(H) (two-sided):                  0.22   Kurtosis:                         3.24\n",
      "===================================================================================\n",
      "\n",
      "Warnings:\n",
      "[1] Covariance matrix calculated using the outer product of gradients (complex-step).\n"
     ]
    },
    {
     "name": "stderr",
     "output_type": "stream",
     "text": [
      "C:\\Users\\roman\\Anaconda3\\lib\\site-packages\\statsmodels\\tsa\\base\\tsa_model.py:471: ValueWarning: An unsupported index was provided and will be ignored when e.g. forecasting.\n",
      "  self._init_dates(dates, freq)\n",
      "C:\\Users\\roman\\Anaconda3\\lib\\site-packages\\statsmodels\\tsa\\base\\tsa_model.py:471: ValueWarning: An unsupported index was provided and will be ignored when e.g. forecasting.\n",
      "  self._init_dates(dates, freq)\n",
      "C:\\Users\\roman\\Anaconda3\\lib\\site-packages\\statsmodels\\tsa\\base\\tsa_model.py:471: ValueWarning: An unsupported index was provided and will be ignored when e.g. forecasting.\n",
      "  self._init_dates(dates, freq)\n"
     ]
    }
   ],
   "source": [
    "src_data_model = ar1['Koks_Yt']\n",
    "model4 = sm.tsa.ARIMA(src_data_model, order=(1,0,0)).fit()\n",
    "#, freq='W # full_output=False, disp=0\n",
    "print (model4.summary())"
   ]
  },
  {
   "cell_type": "markdown",
   "id": "8f97ccbe",
   "metadata": {},
   "source": [
    "### 5) ARIMA для газ"
   ]
  },
  {
   "cell_type": "code",
   "execution_count": 10,
   "id": "882eea6e",
   "metadata": {
    "scrolled": true
   },
   "outputs": [
    {
     "name": "stdout",
     "output_type": "stream",
     "text": [
      "                               SARIMAX Results                                \n",
      "==============================================================================\n",
      "Dep. Variable:                 Gaz_Yt   No. Observations:                    5\n",
      "Model:                 ARIMA(1, 0, 0)   Log Likelihood                  13.214\n",
      "Date:                Thu, 26 Jan 2023   AIC                            -20.427\n",
      "Time:                        15:39:17   BIC                            -21.599\n",
      "Sample:                             0   HQIC                           -23.572\n",
      "                                  - 5                                         \n",
      "Covariance Type:                  opg                                         \n",
      "==============================================================================\n",
      "                 coef    std err          z      P>|z|      [0.025      0.975]\n",
      "------------------------------------------------------------------------------\n",
      "const          0.0299      0.016      1.844      0.065      -0.002       0.062\n",
      "ar.L1          0.5117      0.603      0.849      0.396      -0.669       1.693\n",
      "sigma2         0.0003      0.000      0.730      0.466      -0.000       0.001\n",
      "===================================================================================\n",
      "Ljung-Box (L1) (Q):                   0.03   Jarque-Bera (JB):                 0.78\n",
      "Prob(Q):                              0.85   Prob(JB):                         0.68\n",
      "Heteroskedasticity (H):               0.11   Skew:                            -0.93\n",
      "Prob(H) (two-sided):                  0.19   Kurtosis:                         2.44\n",
      "===================================================================================\n",
      "\n",
      "Warnings:\n",
      "[1] Covariance matrix calculated using the outer product of gradients (complex-step).\n"
     ]
    },
    {
     "name": "stderr",
     "output_type": "stream",
     "text": [
      "C:\\Users\\roman\\Anaconda3\\lib\\site-packages\\statsmodels\\tsa\\base\\tsa_model.py:471: ValueWarning: An unsupported index was provided and will be ignored when e.g. forecasting.\n",
      "  self._init_dates(dates, freq)\n",
      "C:\\Users\\roman\\Anaconda3\\lib\\site-packages\\statsmodels\\tsa\\base\\tsa_model.py:471: ValueWarning: An unsupported index was provided and will be ignored when e.g. forecasting.\n",
      "  self._init_dates(dates, freq)\n",
      "C:\\Users\\roman\\Anaconda3\\lib\\site-packages\\statsmodels\\tsa\\base\\tsa_model.py:471: ValueWarning: An unsupported index was provided and will be ignored when e.g. forecasting.\n",
      "  self._init_dates(dates, freq)\n"
     ]
    }
   ],
   "source": [
    "src_data_model = ar1['Gaz_Yt']\n",
    "model5 = sm.tsa.ARIMA(src_data_model, order=(1,0,0)).fit()\n",
    "#, freq='W # full_output=False, disp=0\n",
    "print (model5.summary())"
   ]
  },
  {
   "cell_type": "markdown",
   "id": "d3b9d2cf",
   "metadata": {},
   "source": [
    "### Константы"
   ]
  },
  {
   "cell_type": "code",
   "execution_count": 11,
   "id": "ba6d8d80",
   "metadata": {},
   "outputs": [
    {
     "data": {
      "text/html": [
       "<div>\n",
       "<style scoped>\n",
       "    .dataframe tbody tr th:only-of-type {\n",
       "        vertical-align: middle;\n",
       "    }\n",
       "\n",
       "    .dataframe tbody tr th {\n",
       "        vertical-align: top;\n",
       "    }\n",
       "\n",
       "    .dataframe thead th {\n",
       "        text-align: right;\n",
       "    }\n",
       "</style>\n",
       "<table border=\"1\" class=\"dataframe\">\n",
       "  <thead>\n",
       "    <tr style=\"text-align: right;\">\n",
       "      <th></th>\n",
       "      <th>Masla_Yt</th>\n",
       "      <th>Smol_Yt</th>\n",
       "      <th>Asvalten_Yt</th>\n",
       "      <th>Koks_Yt</th>\n",
       "      <th>Gaz_Yt</th>\n",
       "    </tr>\n",
       "  </thead>\n",
       "  <tbody>\n",
       "    <tr>\n",
       "      <th>0</th>\n",
       "      <td>0.5623</td>\n",
       "      <td>0.2931</td>\n",
       "      <td>0.1123</td>\n",
       "      <td>0.0081</td>\n",
       "      <td>0.0299</td>\n",
       "    </tr>\n",
       "  </tbody>\n",
       "</table>\n",
       "</div>"
      ],
      "text/plain": [
       "   Masla_Yt  Smol_Yt  Asvalten_Yt  Koks_Yt  Gaz_Yt\n",
       "0    0.5623   0.2931       0.1123   0.0081  0.0299"
      ]
     },
     "execution_count": 11,
     "metadata": {},
     "output_type": "execute_result"
    }
   ],
   "source": [
    "# c = 0.5310, 0.1491, 0.0800\n",
    "# c = pd.DataFrame(c)\n",
    "c = pd.DataFrame({'Masla_Yt' :  0.5623 , 'Smol_Yt': 0.2931, 'Asvalten_Yt': 0.1123, 'Koks_Yt': 0.0081, 'Gaz_Yt': 0.0299}, index = [0])\n",
    "c"
   ]
  },
  {
   "cell_type": "markdown",
   "id": "effa75b8",
   "metadata": {},
   "source": [
    "### Предсказания для моделей ARIMA(масла, смолы, асфальтен, кокс)"
   ]
  },
  {
   "cell_type": "code",
   "execution_count": 12,
   "id": "afadd78c",
   "metadata": {},
   "outputs": [
    {
     "data": {
      "text/html": [
       "<div>\n",
       "<style scoped>\n",
       "    .dataframe tbody tr th:only-of-type {\n",
       "        vertical-align: middle;\n",
       "    }\n",
       "\n",
       "    .dataframe tbody tr th {\n",
       "        vertical-align: top;\n",
       "    }\n",
       "\n",
       "    .dataframe thead th {\n",
       "        text-align: right;\n",
       "    }\n",
       "</style>\n",
       "<table border=\"1\" class=\"dataframe\">\n",
       "  <thead>\n",
       "    <tr style=\"text-align: right;\">\n",
       "      <th></th>\n",
       "      <th>Masla_Yt</th>\n",
       "      <th>Smol_Yt</th>\n",
       "      <th>Asvalten_Yt</th>\n",
       "      <th>Koks_Yt</th>\n",
       "      <th>Gaz_Yt</th>\n",
       "    </tr>\n",
       "  </thead>\n",
       "  <tbody>\n",
       "    <tr>\n",
       "      <th>150</th>\n",
       "      <td>0.562327</td>\n",
       "      <td>0.293111</td>\n",
       "      <td>0.112334</td>\n",
       "      <td>0.008056</td>\n",
       "      <td>0.029860</td>\n",
       "    </tr>\n",
       "    <tr>\n",
       "      <th>180</th>\n",
       "      <td>0.557009</td>\n",
       "      <td>0.352164</td>\n",
       "      <td>0.098045</td>\n",
       "      <td>0.008480</td>\n",
       "      <td>0.014580</td>\n",
       "    </tr>\n",
       "    <tr>\n",
       "      <th>210</th>\n",
       "      <td>0.548380</td>\n",
       "      <td>0.313763</td>\n",
       "      <td>0.110841</td>\n",
       "      <td>0.007953</td>\n",
       "      <td>0.029932</td>\n",
       "    </tr>\n",
       "    <tr>\n",
       "      <th>240</th>\n",
       "      <td>0.552695</td>\n",
       "      <td>0.275361</td>\n",
       "      <td>0.117238</td>\n",
       "      <td>0.007953</td>\n",
       "      <td>0.040166</td>\n",
       "    </tr>\n",
       "    <tr>\n",
       "      <th>270</th>\n",
       "      <td>0.574266</td>\n",
       "      <td>0.244640</td>\n",
       "      <td>0.117238</td>\n",
       "      <td>0.007953</td>\n",
       "      <td>0.040166</td>\n",
       "    </tr>\n",
       "  </tbody>\n",
       "</table>\n",
       "</div>"
      ],
      "text/plain": [
       "     Masla_Yt   Smol_Yt  Asvalten_Yt   Koks_Yt    Gaz_Yt\n",
       "150  0.562327  0.293111     0.112334  0.008056  0.029860\n",
       "180  0.557009  0.352164     0.098045  0.008480  0.014580\n",
       "210  0.548380  0.313763     0.110841  0.007953  0.029932\n",
       "240  0.552695  0.275361     0.117238  0.007953  0.040166\n",
       "270  0.574266  0.244640     0.117238  0.007953  0.040166"
      ]
     },
     "execution_count": 12,
     "metadata": {},
     "output_type": "execute_result"
    }
   ],
   "source": [
    "predict1 = model1.predict(n_periods=7)\n",
    "predict1 = predict1.values\n",
    "predict2 = model2.predict(n_periods=7)\n",
    "predict2 = predict2.values\n",
    "predict3 = model3.predict(n_periods=7)\n",
    "predict3 = predict3.values\n",
    "predict4 = model4.predict(n_periods=7)\n",
    "predict4 = predict4.values\n",
    "predict5 = model5.predict(n_periods=7)\n",
    "predict5 = predict5.values\n",
    "ar2 = pd.DataFrame({'Masla_Yt': predict1, 'Smol_Yt':predict2, 'Asvalten_Yt': predict3, 'Koks_Yt': predict4,'Gaz_Yt':predict5 },index = [150,180,210,240,270] )\n",
    "ar2"
   ]
  },
  {
   "cell_type": "code",
   "execution_count": 13,
   "id": "a525f4ed",
   "metadata": {},
   "outputs": [
    {
     "data": {
      "text/plain": [
       "<AxesSubplot:>"
      ]
     },
     "execution_count": 13,
     "metadata": {},
     "output_type": "execute_result"
    },
    {
     "data": {
      "image/png": "[encoded data removed]",
      "text/plain": [
       "<Figure size 720x432 with 1 Axes>"
      ]
     },
     "metadata": {},
     "output_type": "display_data"
    }
   ],
   "source": [
    "ar2.plot(figsize=(10,6))"
   ]
  },
  {
   "cell_type": "markdown",
   "id": "fc9be2a4",
   "metadata": {},
   "source": [
    "## 1) Реализация уравнения для Газа"
   ]
  },
  {
   "cell_type": "code",
   "execution_count": 20,
   "id": "b1fef882",
   "metadata": {},
   "outputs": [
    {
     "data": {
      "text/html": [
       "<div>\n",
       "<style scoped>\n",
       "    .dataframe tbody tr th:only-of-type {\n",
       "        vertical-align: middle;\n",
       "    }\n",
       "\n",
       "    .dataframe tbody tr th {\n",
       "        vertical-align: top;\n",
       "    }\n",
       "\n",
       "    .dataframe thead th {\n",
       "        text-align: right;\n",
       "    }\n",
       "</style>\n",
       "<table border=\"1\" class=\"dataframe\">\n",
       "  <thead>\n",
       "    <tr style=\"text-align: right;\">\n",
       "      <th></th>\n",
       "      <th>Masla_Yt</th>\n",
       "      <th>Smol_Yt</th>\n",
       "      <th>Asvalten_Yt</th>\n",
       "      <th>Gaz_Yt</th>\n",
       "    </tr>\n",
       "  </thead>\n",
       "  <tbody>\n",
       "    <tr>\n",
       "      <th>150</th>\n",
       "      <td>0.562327</td>\n",
       "      <td>0.293111</td>\n",
       "      <td>0.112334</td>\n",
       "      <td>0.568710</td>\n",
       "    </tr>\n",
       "    <tr>\n",
       "      <th>180</th>\n",
       "      <td>0.557009</td>\n",
       "      <td>0.352164</td>\n",
       "      <td>0.098045</td>\n",
       "      <td>0.604697</td>\n",
       "    </tr>\n",
       "    <tr>\n",
       "      <th>210</th>\n",
       "      <td>0.548380</td>\n",
       "      <td>0.313763</td>\n",
       "      <td>0.110841</td>\n",
       "      <td>0.568544</td>\n",
       "    </tr>\n",
       "    <tr>\n",
       "      <th>240</th>\n",
       "      <td>0.552695</td>\n",
       "      <td>0.275361</td>\n",
       "      <td>0.117238</td>\n",
       "      <td>0.546646</td>\n",
       "    </tr>\n",
       "    <tr>\n",
       "      <th>270</th>\n",
       "      <td>0.574266</td>\n",
       "      <td>0.244640</td>\n",
       "      <td>0.117238</td>\n",
       "      <td>0.549207</td>\n",
       "    </tr>\n",
       "  </tbody>\n",
       "</table>\n",
       "</div>"
      ],
      "text/plain": [
       "     Masla_Yt   Smol_Yt  Asvalten_Yt    Gaz_Yt\n",
       "150  0.562327  0.293111     0.112334  0.568710\n",
       "180  0.557009  0.352164     0.098045  0.604697\n",
       "210  0.548380  0.313763     0.110841  0.568544\n",
       "240  0.552695  0.275361     0.117238  0.546646\n",
       "270  0.574266  0.244640     0.117238  0.549207"
      ]
     },
     "execution_count": 20,
     "metadata": {},
     "output_type": "execute_result"
    }
   ],
   "source": [
    "Gaz_Yt = (ar2['Masla_Yt']**(1.6)) + (ar2['Smol_Yt']**(1.6)) +(ar2['Asvalten_Yt']**(1.6))\n",
    "Gaz_Yt\n",
    "ar_Gaz_Yt = pd.DataFrame({'Masla_Yt': ar2['Masla_Yt'], 'Smol_Yt':ar2['Smol_Yt'], 'Asvalten_Yt': ar2['Asvalten_Yt'], 'Gaz_Yt': Gaz_Yt },index = [150,180,210,240,270] )\n",
    "ar_Gaz_Yt"
   ]
  },
  {
   "cell_type": "code",
   "execution_count": 21,
   "id": "0ff59231",
   "metadata": {},
   "outputs": [
    {
     "data": {
      "text/plain": [
       "<AxesSubplot:>"
      ]
     },
     "execution_count": 21,
     "metadata": {},
     "output_type": "execute_result"
    },
    {
     "data": {
      "image/png": "[encoded data removed]",
      "text/plain": [
       "<Figure size 864x432 with 1 Axes>"
      ]
     },
     "metadata": {},
     "output_type": "display_data"
    }
   ],
   "source": [
    "ar_Gaz_Yt.plot(figsize=(12,6))"
   ]
  },
  {
   "cell_type": "markdown",
   "id": "386b8dd7",
   "metadata": {},
   "source": [
    "### Тесты модели Газа"
   ]
  },
  {
   "cell_type": "code",
   "execution_count": 22,
   "id": "78cf5cf7",
   "metadata": {},
   "outputs": [
    {
     "name": "stdout",
     "output_type": "stream",
     "text": [
      "СКО : 0.28570892266400405\n",
      "АО : 0.5335608061722522\n",
      "Стандарт.относит.откл. : 18.80189048890451\n"
     ]
    }
   ],
   "source": [
    "sigma = mean_squared_error(ar1['Gaz_Yt'],ar_Gaz_Yt['Gaz_Yt'])\n",
    "\n",
    "absolute_error = mean_absolute_error(ar1['Gaz_Yt'], ar_Gaz_Yt['Gaz_Yt'])\n",
    "\n",
    "# 3.Стандартная относительная ошибка:\n",
    "#Числитель:\n",
    "s = ar1['Gaz_Yt'].values\n",
    "z = ar_Gaz_Yt['Gaz_Yt'].values\n",
    "\n",
    "are1 = np.sum((abs((s) - (z))))\n",
    "#Знаменатель:\n",
    "are2 = np.sum((abs(z)))\n",
    "#Формула( В '%')\n",
    "are = (1/len(s))*(are1/are2)*100\n",
    "\n",
    "print('СКО :', sigma)\n",
    "print('АО :', absolute_error)\n",
    "print('Стандарт.относит.откл. :', float(are))"
   ]
  },
  {
   "cell_type": "markdown",
   "id": "17f898a7",
   "metadata": {},
   "source": [
    "## 2) Реализация уравнения для Асфалтена"
   ]
  },
  {
   "cell_type": "code",
   "execution_count": 23,
   "id": "1e136762",
   "metadata": {},
   "outputs": [
    {
     "data": {
      "text/html": [
       "<div>\n",
       "<style scoped>\n",
       "    .dataframe tbody tr th:only-of-type {\n",
       "        vertical-align: middle;\n",
       "    }\n",
       "\n",
       "    .dataframe tbody tr th {\n",
       "        vertical-align: top;\n",
       "    }\n",
       "\n",
       "    .dataframe thead th {\n",
       "        text-align: right;\n",
       "    }\n",
       "</style>\n",
       "<table border=\"1\" class=\"dataframe\">\n",
       "  <thead>\n",
       "    <tr style=\"text-align: right;\">\n",
       "      <th></th>\n",
       "      <th>Masla_Yt</th>\n",
       "      <th>Smol_Yt</th>\n",
       "      <th>Asvalten_Yt</th>\n",
       "    </tr>\n",
       "  </thead>\n",
       "  <tbody>\n",
       "    <tr>\n",
       "      <th>150</th>\n",
       "      <td>0.562327</td>\n",
       "      <td>0.293111</td>\n",
       "      <td>0.538454</td>\n",
       "    </tr>\n",
       "    <tr>\n",
       "      <th>180</th>\n",
       "      <td>0.557009</td>\n",
       "      <td>0.352164</td>\n",
       "      <td>0.580359</td>\n",
       "    </tr>\n",
       "    <tr>\n",
       "      <th>210</th>\n",
       "      <td>0.548380</td>\n",
       "      <td>0.313763</td>\n",
       "      <td>0.538929</td>\n",
       "    </tr>\n",
       "    <tr>\n",
       "      <th>240</th>\n",
       "      <td>0.552695</td>\n",
       "      <td>0.275361</td>\n",
       "      <td>0.514248</td>\n",
       "    </tr>\n",
       "    <tr>\n",
       "      <th>270</th>\n",
       "      <td>0.574266</td>\n",
       "      <td>0.244640</td>\n",
       "      <td>0.516810</td>\n",
       "    </tr>\n",
       "  </tbody>\n",
       "</table>\n",
       "</div>"
      ],
      "text/plain": [
       "     Masla_Yt   Smol_Yt  Asvalten_Yt\n",
       "150  0.562327  0.293111     0.538454\n",
       "180  0.557009  0.352164     0.580359\n",
       "210  0.548380  0.313763     0.538929\n",
       "240  0.552695  0.275361     0.514248\n",
       "270  0.574266  0.244640     0.516810"
      ]
     },
     "execution_count": 23,
     "metadata": {},
     "output_type": "execute_result"
    }
   ],
   "source": [
    "Asv_Yt = (ar2['Masla_Yt']**(1.6)) + (ar2['Smol_Yt']**(1.6))\n",
    "\n",
    "ar_Asv_Yt = pd.DataFrame({'Masla_Yt': predict1, 'Smol_Yt':predict2, 'Asvalten_Yt': Asv_Yt},index = [150,180,210,240,270] )\n",
    "ar_Asv_Yt"
   ]
  },
  {
   "cell_type": "code",
   "execution_count": 24,
   "id": "c981b6e7",
   "metadata": {},
   "outputs": [
    {
     "data": {
      "text/plain": [
       "<AxesSubplot:>"
      ]
     },
     "execution_count": 24,
     "metadata": {},
     "output_type": "execute_result"
    },
    {
     "data": {
      "image/png": "[encoded data removed]",
      "text/plain": [
       "<Figure size 864x432 with 1 Axes>"
      ]
     },
     "metadata": {},
     "output_type": "display_data"
    }
   ],
   "source": [
    "ar_Asv_Yt.plot(figsize=(12,6))"
   ]
  },
  {
   "cell_type": "markdown",
   "id": "b70ead3d",
   "metadata": {},
   "source": [
    "### Тесты модели Асфалтена"
   ]
  },
  {
   "cell_type": "code",
   "execution_count": 25,
   "id": "8e91d1a9",
   "metadata": {},
   "outputs": [
    {
     "name": "stdout",
     "output_type": "stream",
     "text": [
      "СКО : 0.18058059831287637\n",
      "АО : 0.4237598763452205\n",
      "Стандарт.относит.откл. : 15.76018944459826\n"
     ]
    }
   ],
   "source": [
    "sigma = mean_squared_error(ar1['Asvalten_Yt'],ar_Asv_Yt['Asvalten_Yt'])\n",
    "\n",
    "absolute_error = mean_absolute_error(ar1['Asvalten_Yt'], ar_Asv_Yt['Asvalten_Yt'])\n",
    "\n",
    "# 3.Стандартная относительная ошибка:\n",
    "#Числитель:\n",
    "s = ar1['Asvalten_Yt'].values\n",
    "z = ar_Asv_Yt['Asvalten_Yt'].values\n",
    "\n",
    "are1 = np.sum((abs((s) - (z))))\n",
    "#Знаменатель:\n",
    "are2 = np.sum((abs(z)))\n",
    "#Формула( В '%')\n",
    "are = (1/len(s))*(are1/are2)*100\n",
    "\n",
    "print('СКО :', sigma)\n",
    "print('АО :', absolute_error)\n",
    "print('Стандарт.относит.откл. :', float(are))"
   ]
  },
  {
   "cell_type": "markdown",
   "id": "b7bf7288",
   "metadata": {},
   "source": [
    "## 3) Реализация уравнения для Кокс"
   ]
  },
  {
   "cell_type": "code",
   "execution_count": 26,
   "id": "70b4c9c9",
   "metadata": {},
   "outputs": [
    {
     "data": {
      "text/html": [
       "<div>\n",
       "<style scoped>\n",
       "    .dataframe tbody tr th:only-of-type {\n",
       "        vertical-align: middle;\n",
       "    }\n",
       "\n",
       "    .dataframe tbody tr th {\n",
       "        vertical-align: top;\n",
       "    }\n",
       "\n",
       "    .dataframe thead th {\n",
       "        text-align: right;\n",
       "    }\n",
       "</style>\n",
       "<table border=\"1\" class=\"dataframe\">\n",
       "  <thead>\n",
       "    <tr style=\"text-align: right;\">\n",
       "      <th></th>\n",
       "      <th>Koks_Yt</th>\n",
       "      <th>Asvalten_Yt</th>\n",
       "      <th>Gaz_Yt</th>\n",
       "    </tr>\n",
       "  </thead>\n",
       "  <tbody>\n",
       "    <tr>\n",
       "      <th>150</th>\n",
       "      <td>0.033888</td>\n",
       "      <td>0.112334</td>\n",
       "      <td>0.029860</td>\n",
       "    </tr>\n",
       "    <tr>\n",
       "      <th>180</th>\n",
       "      <td>0.025491</td>\n",
       "      <td>0.098045</td>\n",
       "      <td>0.014580</td>\n",
       "    </tr>\n",
       "    <tr>\n",
       "      <th>210</th>\n",
       "      <td>0.033261</td>\n",
       "      <td>0.110841</td>\n",
       "      <td>0.029932</td>\n",
       "    </tr>\n",
       "    <tr>\n",
       "      <th>240</th>\n",
       "      <td>0.038234</td>\n",
       "      <td>0.117238</td>\n",
       "      <td>0.040166</td>\n",
       "    </tr>\n",
       "    <tr>\n",
       "      <th>270</th>\n",
       "      <td>0.038234</td>\n",
       "      <td>0.117238</td>\n",
       "      <td>0.040166</td>\n",
       "    </tr>\n",
       "  </tbody>\n",
       "</table>\n",
       "</div>"
      ],
      "text/plain": [
       "      Koks_Yt  Asvalten_Yt    Gaz_Yt\n",
       "150  0.033888     0.112334  0.029860\n",
       "180  0.025491     0.098045  0.014580\n",
       "210  0.033261     0.110841  0.029932\n",
       "240  0.038234     0.117238  0.040166\n",
       "270  0.038234     0.117238  0.040166"
      ]
     },
     "execution_count": 26,
     "metadata": {},
     "output_type": "execute_result"
    }
   ],
   "source": [
    "Koks_Yt = (ar2['Asvalten_Yt']**(1.6)) + (ar2['Gaz_Yt']**(1.6))\n",
    "\n",
    "ar_Koks_Yt = pd.DataFrame({'Koks_Yt': Koks_Yt, 'Asvalten_Yt' : ar2['Asvalten_Yt'],'Gaz_Yt': ar2['Gaz_Yt']},index = [150,180,210,240,270] )\n",
    "ar_Koks_Yt"
   ]
  },
  {
   "cell_type": "code",
   "execution_count": 27,
   "id": "8bf8d7d1",
   "metadata": {},
   "outputs": [
    {
     "data": {
      "text/plain": [
       "<AxesSubplot:>"
      ]
     },
     "execution_count": 27,
     "metadata": {},
     "output_type": "execute_result"
    },
    {
     "data": {
      "image/png": "[encoded data removed]",
      "text/plain": [
       "<Figure size 864x432 with 1 Axes>"
      ]
     },
     "metadata": {},
     "output_type": "display_data"
    }
   ],
   "source": [
    "ar_Koks_Yt.plot(figsize=(12,6))"
   ]
  },
  {
   "cell_type": "markdown",
   "id": "b03c6844",
   "metadata": {},
   "source": [
    "### Тесты модели Кокс"
   ]
  },
  {
   "cell_type": "code",
   "execution_count": 28,
   "id": "0a91d23f",
   "metadata": {},
   "outputs": [
    {
     "name": "stdout",
     "output_type": "stream",
     "text": [
      "СКО : 0.0007047661177684916\n",
      "АО : 0.02582189264758152\n",
      "Стандарт.относит.откл. : 15.26933629447727\n"
     ]
    }
   ],
   "source": [
    "sigma = mean_squared_error(ar1['Koks_Yt'],ar_Koks_Yt['Koks_Yt'])\n",
    "\n",
    "absolute_error = mean_absolute_error(ar1['Koks_Yt'], ar_Koks_Yt['Koks_Yt'])\n",
    "\n",
    "# 3.Стандартная относительная ошибка:\n",
    "#Числитель:\n",
    "s = ar1['Koks_Yt'].values\n",
    "z = ar_Koks_Yt['Koks_Yt'].values\n",
    "\n",
    "are1 = np.sum((abs((s) - (z))))\n",
    "#Знаменатель:\n",
    "are2 = np.sum((abs(z)))\n",
    "#Формула( В '%')\n",
    "are = (1/len(s))*(are1/are2)*100\n",
    "\n",
    "print('СКО :', sigma)\n",
    "print('АО :', absolute_error)\n",
    "print('Стандарт.относит.откл. :', float(are))"
   ]
  },
  {
   "cell_type": "markdown",
   "id": "417997f3",
   "metadata": {},
   "source": [
    "## 4) Реализация уравнения для Масла"
   ]
  },
  {
   "cell_type": "code",
   "execution_count": 29,
   "id": "f864a741",
   "metadata": {},
   "outputs": [
    {
     "data": {
      "text/html": [
       "<div>\n",
       "<style scoped>\n",
       "    .dataframe tbody tr th:only-of-type {\n",
       "        vertical-align: middle;\n",
       "    }\n",
       "\n",
       "    .dataframe tbody tr th {\n",
       "        vertical-align: top;\n",
       "    }\n",
       "\n",
       "    .dataframe thead th {\n",
       "        text-align: right;\n",
       "    }\n",
       "</style>\n",
       "<table border=\"1\" class=\"dataframe\">\n",
       "  <thead>\n",
       "    <tr style=\"text-align: right;\">\n",
       "      <th></th>\n",
       "      <th>Masla_Yt</th>\n",
       "      <th>Asvalten_Yt</th>\n",
       "      <th>Smol_Yt</th>\n",
       "    </tr>\n",
       "  </thead>\n",
       "  <tbody>\n",
       "    <tr>\n",
       "      <th>150</th>\n",
       "      <td>0.405444</td>\n",
       "      <td>0.112334</td>\n",
       "      <td>0.293111</td>\n",
       "    </tr>\n",
       "    <tr>\n",
       "      <th>180</th>\n",
       "      <td>0.450209</td>\n",
       "      <td>0.098045</td>\n",
       "      <td>0.352164</td>\n",
       "    </tr>\n",
       "    <tr>\n",
       "      <th>210</th>\n",
       "      <td>0.424603</td>\n",
       "      <td>0.110841</td>\n",
       "      <td>0.313763</td>\n",
       "    </tr>\n",
       "    <tr>\n",
       "      <th>240</th>\n",
       "      <td>0.392599</td>\n",
       "      <td>0.117238</td>\n",
       "      <td>0.275361</td>\n",
       "    </tr>\n",
       "    <tr>\n",
       "      <th>270</th>\n",
       "      <td>0.361878</td>\n",
       "      <td>0.117238</td>\n",
       "      <td>0.244640</td>\n",
       "    </tr>\n",
       "  </tbody>\n",
       "</table>\n",
       "</div>"
      ],
      "text/plain": [
       "     Masla_Yt  Asvalten_Yt   Smol_Yt\n",
       "150  0.405444     0.112334  0.293111\n",
       "180  0.450209     0.098045  0.352164\n",
       "210  0.424603     0.110841  0.313763\n",
       "240  0.392599     0.117238  0.275361\n",
       "270  0.361878     0.117238  0.244640"
      ]
     },
     "execution_count": 29,
     "metadata": {},
     "output_type": "execute_result"
    }
   ],
   "source": [
    "Masla_Yt = ((ar2['Asvalten_Yt'])**(1)) + ((ar2['Smol_Yt'])**(1))\n",
    "Masla_Yt\n",
    "ar_Masla_Yt = pd.DataFrame({'Masla_Yt': Masla_Yt,'Asvalten_Yt' : ar2['Asvalten_Yt'],'Smol_Yt' :ar2['Smol_Yt'] },index = [150,180,210,240,270] )\n",
    "ar_Masla_Yt"
   ]
  },
  {
   "cell_type": "code",
   "execution_count": 30,
   "id": "9b49a274",
   "metadata": {},
   "outputs": [
    {
     "data": {
      "text/plain": [
       "<AxesSubplot:>"
      ]
     },
     "execution_count": 30,
     "metadata": {},
     "output_type": "execute_result"
    },
    {
     "data": {
      "image/png": "[encoded data removed]",
      "text/plain": [
       "<Figure size 864x432 with 1 Axes>"
      ]
     },
     "metadata": {},
     "output_type": "display_data"
    }
   ],
   "source": [
    "ar_Masla_Yt.plot(figsize=(12,6))"
   ]
  },
  {
   "cell_type": "markdown",
   "id": "5cad03ba",
   "metadata": {},
   "source": [
    "### Тест Масла"
   ]
  },
  {
   "cell_type": "code",
   "execution_count": 32,
   "id": "fd285b05",
   "metadata": {},
   "outputs": [
    {
     "name": "stdout",
     "output_type": "stream",
     "text": [
      "СКО : 0.026317188213285835\n",
      "АО : 0.1530531275197077\n",
      "Стандарт.относит.откл. : 7.522020090085337\n"
     ]
    }
   ],
   "source": [
    "sigma = mean_squared_error(ar1['Masla_Yt'],ar_Masla_Yt['Masla_Yt'])\n",
    "\n",
    "absolute_error = mean_absolute_error(ar1['Masla_Yt'], ar_Masla_Yt['Masla_Yt'])\n",
    "\n",
    "# 3.Стандартная относительная ошибка:\n",
    "#Числитель:\n",
    "s = ar1['Masla_Yt'].values\n",
    "z = ar_Masla_Yt['Masla_Yt'].values\n",
    "\n",
    "are1 = np.sum((abs((s) - (z))))\n",
    "#Знаменатель:\n",
    "are2 = np.sum((abs(z)))\n",
    "#Формула( В '%')\n",
    "are = (1/len(s))*(are1/are2)*100\n",
    "\n",
    "print('СКО :', sigma)\n",
    "print('АО :', absolute_error)\n",
    "print('Стандарт.относит.откл. :', float(are))"
   ]
  },
  {
   "cell_type": "markdown",
   "id": "416de545",
   "metadata": {},
   "source": [
    "## 5) Реализация уравнения для Смолы"
   ]
  },
  {
   "cell_type": "code",
   "execution_count": 41,
   "id": "296ed4b6",
   "metadata": {},
   "outputs": [
    {
     "data": {
      "text/html": [
       "<div>\n",
       "<style scoped>\n",
       "    .dataframe tbody tr th:only-of-type {\n",
       "        vertical-align: middle;\n",
       "    }\n",
       "\n",
       "    .dataframe tbody tr th {\n",
       "        vertical-align: top;\n",
       "    }\n",
       "\n",
       "    .dataframe thead th {\n",
       "        text-align: right;\n",
       "    }\n",
       "</style>\n",
       "<table border=\"1\" class=\"dataframe\">\n",
       "  <thead>\n",
       "    <tr style=\"text-align: right;\">\n",
       "      <th></th>\n",
       "      <th>Masla_Yt</th>\n",
       "      <th>Asvalten_Yt</th>\n",
       "      <th>Smol_Yt</th>\n",
       "    </tr>\n",
       "  </thead>\n",
       "  <tbody>\n",
       "    <tr>\n",
       "      <th>150</th>\n",
       "      <td>0.405444</td>\n",
       "      <td>0.112334</td>\n",
       "      <td>0.428347</td>\n",
       "    </tr>\n",
       "    <tr>\n",
       "      <th>180</th>\n",
       "      <td>0.450209</td>\n",
       "      <td>0.098045</td>\n",
       "      <td>0.416422</td>\n",
       "    </tr>\n",
       "    <tr>\n",
       "      <th>210</th>\n",
       "      <td>0.424603</td>\n",
       "      <td>0.110841</td>\n",
       "      <td>0.412027</td>\n",
       "    </tr>\n",
       "    <tr>\n",
       "      <th>240</th>\n",
       "      <td>0.392599</td>\n",
       "      <td>0.117238</td>\n",
       "      <td>0.419634</td>\n",
       "    </tr>\n",
       "    <tr>\n",
       "      <th>270</th>\n",
       "      <td>0.361878</td>\n",
       "      <td>0.117238</td>\n",
       "      <td>0.444098</td>\n",
       "    </tr>\n",
       "  </tbody>\n",
       "</table>\n",
       "</div>"
      ],
      "text/plain": [
       "     Masla_Yt  Asvalten_Yt   Smol_Yt\n",
       "150  0.405444     0.112334  0.428347\n",
       "180  0.450209     0.098045  0.416422\n",
       "210  0.424603     0.110841  0.412027\n",
       "240  0.392599     0.117238  0.419634\n",
       "270  0.361878     0.117238  0.444098"
      ]
     },
     "execution_count": 41,
     "metadata": {},
     "output_type": "execute_result"
    }
   ],
   "source": [
    "Smol_Yt = ((ar2['Masla_Yt'])**(1.6)) + ((ar2['Asvalten_Yt'])**(1.6))\n",
    "Smol_Yt\n",
    "ar_Smol_Yt = pd.DataFrame({'Masla_Yt': Masla_Yt,'Asvalten_Yt' : ar2['Asvalten_Yt'],'Smol_Yt' :Smol_Yt },index = [150,180,210,240,270] )\n",
    "ar_Smol_Yt"
   ]
  },
  {
   "cell_type": "code",
   "execution_count": 42,
   "id": "a7124f70",
   "metadata": {},
   "outputs": [
    {
     "data": {
      "text/plain": [
       "<AxesSubplot:>"
      ]
     },
     "execution_count": 42,
     "metadata": {},
     "output_type": "execute_result"
    },
    {
     "data": {
      "image/png": "[encoded data removed]",
      "text/plain": [
       "<Figure size 864x432 with 1 Axes>"
      ]
     },
     "metadata": {},
     "output_type": "display_data"
    }
   ],
   "source": [
    "ar_Smol_Yt.plot(figsize=(12,6))"
   ]
  },
  {
   "cell_type": "markdown",
   "id": "38a63fd1",
   "metadata": {},
   "source": [
    "### Тест Смолы"
   ]
  },
  {
   "cell_type": "code",
   "execution_count": 43,
   "id": "abed597f",
   "metadata": {},
   "outputs": [
    {
     "name": "stdout",
     "output_type": "stream",
     "text": [
      "СКО : 0.02293443824019602\n",
      "АО : 0.14010565772529782\n",
      "Стандарт.относит.откл. : 6.6071109957249\n"
     ]
    }
   ],
   "source": [
    "sigma = mean_squared_error(ar1['Smol_Yt'],ar_Smol_Yt['Smol_Yt'])\n",
    "\n",
    "absolute_error = mean_absolute_error(ar1['Smol_Yt'], ar_Smol_Yt['Smol_Yt'])\n",
    "\n",
    "# 3.Стандартная относительная ошибка:\n",
    "#Числитель:\n",
    "s = ar1['Smol_Yt'].values\n",
    "z = ar_Smol_Yt['Smol_Yt'].values\n",
    "\n",
    "are1 = np.sum((abs((s) - (z))))\n",
    "#Знаменатель:\n",
    "are2 = np.sum((abs(z)))\n",
    "#Формула( В '%')\n",
    "are = (1/len(s))*(are1/are2)*100\n",
    "\n",
    "print('СКО :', sigma)\n",
    "print('АО :', absolute_error)\n",
    "print('Стандарт.относит.откл. :', float(are))"
   ]
  },
  {
   "cell_type": "markdown",
   "id": "0aaea727",
   "metadata": {},
   "source": [
    "## Общий график реакций"
   ]
  },
  {
   "cell_type": "code",
   "execution_count": 44,
   "id": "cb1dc37d",
   "metadata": {},
   "outputs": [
    {
     "data": {
      "text/plain": [
       "<AxesSubplot:>"
      ]
     },
     "execution_count": 44,
     "metadata": {},
     "output_type": "execute_result"
    },
    {
     "data": {
      "image/png": "[encoded data removed]",
      "text/plain": [
       "<Figure size 864x432 with 1 Axes>"
      ]
     },
     "metadata": {},
     "output_type": "display_data"
    }
   ],
   "source": [
    "reakcia = pd.DataFrame({'Gaz_Yt':ar_Gaz_Yt['Gaz_Yt'], 'Asvalten_Yt': ar_Asv_Yt['Asvalten_Yt'],'Koks_Yt' :ar_Koks_Yt['Koks_Yt'],\n",
    "                       'Masla_Yt': ar_Masla_Yt['Masla_Yt'],'Smol_Yt': ar_Smol_Yt['Smol_Yt'] })\n",
    "reakcia.plot(figsize=(12,6))"
   ]
  }
 ],
 "metadata": {
  "kernelspec": {
   "display_name": "Python 3 (ipykernel)",
   "language": "python",
   "name": "python3"
  },
  "language_info": {
   "codemirror_mode": {
    "name": "ipython",
    "version": 3
   },
   "file_extension": ".py",
   "mimetype": "text/x-python",
   "name": "python",
   "nbconvert_exporter": "python",
   "pygments_lexer": "ipython3",
   "version": "3.9.12"
  }
 },
 "nbformat": 4,
 "nbformat_minor": 5
}
